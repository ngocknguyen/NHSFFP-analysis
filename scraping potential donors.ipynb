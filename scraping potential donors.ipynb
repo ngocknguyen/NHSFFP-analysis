{
 "cells": [
  {
   "cell_type": "code",
   "execution_count": 206,
   "id": "a4a7c225",
   "metadata": {},
   "outputs": [],
   "source": [
    "import pandas as pd\n",
    "import numpy as np\n",
    "import seaborn as sns\n",
    "import plotly.express as px\n",
    "import matplotlib.pyplot as plt\n",
    "%matplotlib inline"
   ]
  },
  {
   "cell_type": "markdown",
   "id": "bf9e2f8e",
   "metadata": {},
   "source": [
    "## Potential Donors in Bath, NH"
   ]
  },
  {
   "cell_type": "code",
   "execution_count": 273,
   "id": "2b9ae084",
   "metadata": {},
   "outputs": [],
   "source": [
    "bath = pd.read_csv(\"fec_donor_bath.csv\")"
   ]
  },
  {
   "cell_type": "code",
   "execution_count": 274,
   "id": "bdf17160",
   "metadata": {},
   "outputs": [
    {
     "data": {
      "text/html": [
       "<div>\n",
       "<style scoped>\n",
       "    .dataframe tbody tr th:only-of-type {\n",
       "        vertical-align: middle;\n",
       "    }\n",
       "\n",
       "    .dataframe tbody tr th {\n",
       "        vertical-align: top;\n",
       "    }\n",
       "\n",
       "    .dataframe thead th {\n",
       "        text-align: right;\n",
       "    }\n",
       "</style>\n",
       "<table border=\"1\" class=\"dataframe\">\n",
       "  <thead>\n",
       "    <tr style=\"text-align: right;\">\n",
       "      <th></th>\n",
       "      <th>committee_id</th>\n",
       "      <th>committee_name</th>\n",
       "      <th>report_year</th>\n",
       "      <th>report_type</th>\n",
       "      <th>image_number</th>\n",
       "      <th>line_number</th>\n",
       "      <th>transaction_id</th>\n",
       "      <th>file_number</th>\n",
       "      <th>committee_name.1</th>\n",
       "      <th>entity_type</th>\n",
       "      <th>...</th>\n",
       "      <th>filing_form</th>\n",
       "      <th>link_id</th>\n",
       "      <th>is_individual</th>\n",
       "      <th>memo_text</th>\n",
       "      <th>two_year_transaction_period</th>\n",
       "      <th>schedule_type</th>\n",
       "      <th>increased_limit</th>\n",
       "      <th>sub_id</th>\n",
       "      <th>pdf_url</th>\n",
       "      <th>line_number_label</th>\n",
       "    </tr>\n",
       "  </thead>\n",
       "  <tbody>\n",
       "    <tr>\n",
       "      <th>0</th>\n",
       "      <td>C00401224</td>\n",
       "      <td>ACTBLUE</td>\n",
       "      <td>2021</td>\n",
       "      <td>30R</td>\n",
       "      <td>202102049425519830</td>\n",
       "      <td>11AI</td>\n",
       "      <td>SA11AI_369917444</td>\n",
       "      <td>1498693</td>\n",
       "      <td>NaN</td>\n",
       "      <td>IND</td>\n",
       "      <td>...</td>\n",
       "      <td>F3X</td>\n",
       "      <td>4020920211123477024</td>\n",
       "      <td>t</td>\n",
       "      <td>EARMARKED FOR TEXAS ORGANIZING PROJECT POLITIC...</td>\n",
       "      <td>2022</td>\n",
       "      <td>SA</td>\n",
       "      <td>NaN</td>\n",
       "      <td>4031520211257321704</td>\n",
       "      <td>https://docquery.fec.gov/cgi-bin/fecimg/?20210...</td>\n",
       "      <td>Contributions From Individuals/Persons Other T...</td>\n",
       "    </tr>\n",
       "    <tr>\n",
       "      <th>1</th>\n",
       "      <td>C00401224</td>\n",
       "      <td>ACTBLUE</td>\n",
       "      <td>2021</td>\n",
       "      <td>30R</td>\n",
       "      <td>202102049425519830</td>\n",
       "      <td>11AI</td>\n",
       "      <td>SA11AI_369917587</td>\n",
       "      <td>1498693</td>\n",
       "      <td>NaN</td>\n",
       "      <td>IND</td>\n",
       "      <td>...</td>\n",
       "      <td>F3X</td>\n",
       "      <td>4020920211123477024</td>\n",
       "      <td>t</td>\n",
       "      <td>CONTRIBUTION TO ACTBLUE</td>\n",
       "      <td>2022</td>\n",
       "      <td>SA</td>\n",
       "      <td>NaN</td>\n",
       "      <td>4031520211257321705</td>\n",
       "      <td>https://docquery.fec.gov/cgi-bin/fecimg/?20210...</td>\n",
       "      <td>Contributions From Individuals/Persons Other T...</td>\n",
       "    </tr>\n",
       "    <tr>\n",
       "      <th>2</th>\n",
       "      <td>C00401224</td>\n",
       "      <td>ACTBLUE</td>\n",
       "      <td>2021</td>\n",
       "      <td>30R</td>\n",
       "      <td>202102049425558759</td>\n",
       "      <td>11AI</td>\n",
       "      <td>SA11AI_371769016</td>\n",
       "      <td>1498693</td>\n",
       "      <td>NaN</td>\n",
       "      <td>IND</td>\n",
       "      <td>...</td>\n",
       "      <td>F3X</td>\n",
       "      <td>4020920211123477024</td>\n",
       "      <td>t</td>\n",
       "      <td>EARMARKED FOR FRIENDS OF BERNIE SANDERS (C0041...</td>\n",
       "      <td>2022</td>\n",
       "      <td>SA</td>\n",
       "      <td>NaN</td>\n",
       "      <td>4031520211257530491</td>\n",
       "      <td>https://docquery.fec.gov/cgi-bin/fecimg/?20210...</td>\n",
       "      <td>Contributions From Individuals/Persons Other T...</td>\n",
       "    </tr>\n",
       "    <tr>\n",
       "      <th>3</th>\n",
       "      <td>C00401224</td>\n",
       "      <td>ACTBLUE</td>\n",
       "      <td>2021</td>\n",
       "      <td>MY</td>\n",
       "      <td>202107319458319329</td>\n",
       "      <td>11AI</td>\n",
       "      <td>SA11AI_371884501</td>\n",
       "      <td>1533121</td>\n",
       "      <td>NaN</td>\n",
       "      <td>IND</td>\n",
       "      <td>...</td>\n",
       "      <td>F3X</td>\n",
       "      <td>4080120211324274388</td>\n",
       "      <td>t</td>\n",
       "      <td>EARMARKED FOR DEMOCRATIC NATIONAL COMMITTEE (C...</td>\n",
       "      <td>2022</td>\n",
       "      <td>SA</td>\n",
       "      <td>NaN</td>\n",
       "      <td>4082520211343947337</td>\n",
       "      <td>https://docquery.fec.gov/cgi-bin/fecimg/?20210...</td>\n",
       "      <td>Contributions From Individuals/Persons Other T...</td>\n",
       "    </tr>\n",
       "    <tr>\n",
       "      <th>4</th>\n",
       "      <td>C00401224</td>\n",
       "      <td>ACTBLUE</td>\n",
       "      <td>2021</td>\n",
       "      <td>MY</td>\n",
       "      <td>202107319457398076</td>\n",
       "      <td>11AI</td>\n",
       "      <td>SA11AI_374980237</td>\n",
       "      <td>1533121</td>\n",
       "      <td>NaN</td>\n",
       "      <td>IND</td>\n",
       "      <td>...</td>\n",
       "      <td>F3X</td>\n",
       "      <td>4080120211324274388</td>\n",
       "      <td>t</td>\n",
       "      <td>EARMARKED FOR DEMOCRATIC NATIONAL COMMITTEE (C...</td>\n",
       "      <td>2022</td>\n",
       "      <td>SA</td>\n",
       "      <td>NaN</td>\n",
       "      <td>4082520211345817001</td>\n",
       "      <td>https://docquery.fec.gov/cgi-bin/fecimg/?20210...</td>\n",
       "      <td>Contributions From Individuals/Persons Other T...</td>\n",
       "    </tr>\n",
       "  </tbody>\n",
       "</table>\n",
       "<p>5 rows × 79 columns</p>\n",
       "</div>"
      ],
      "text/plain": [
       "  committee_id committee_name  report_year report_type        image_number  \\\n",
       "0    C00401224        ACTBLUE         2021         30R  202102049425519830   \n",
       "1    C00401224        ACTBLUE         2021         30R  202102049425519830   \n",
       "2    C00401224        ACTBLUE         2021         30R  202102049425558759   \n",
       "3    C00401224        ACTBLUE         2021          MY  202107319458319329   \n",
       "4    C00401224        ACTBLUE         2021          MY  202107319457398076   \n",
       "\n",
       "  line_number    transaction_id  file_number  committee_name.1 entity_type  \\\n",
       "0        11AI  SA11AI_369917444      1498693               NaN         IND   \n",
       "1        11AI  SA11AI_369917587      1498693               NaN         IND   \n",
       "2        11AI  SA11AI_371769016      1498693               NaN         IND   \n",
       "3        11AI  SA11AI_371884501      1533121               NaN         IND   \n",
       "4        11AI  SA11AI_374980237      1533121               NaN         IND   \n",
       "\n",
       "   ... filing_form              link_id  is_individual  \\\n",
       "0  ...         F3X  4020920211123477024              t   \n",
       "1  ...         F3X  4020920211123477024              t   \n",
       "2  ...         F3X  4020920211123477024              t   \n",
       "3  ...         F3X  4080120211324274388              t   \n",
       "4  ...         F3X  4080120211324274388              t   \n",
       "\n",
       "                                           memo_text  \\\n",
       "0  EARMARKED FOR TEXAS ORGANIZING PROJECT POLITIC...   \n",
       "1                            CONTRIBUTION TO ACTBLUE   \n",
       "2  EARMARKED FOR FRIENDS OF BERNIE SANDERS (C0041...   \n",
       "3  EARMARKED FOR DEMOCRATIC NATIONAL COMMITTEE (C...   \n",
       "4  EARMARKED FOR DEMOCRATIC NATIONAL COMMITTEE (C...   \n",
       "\n",
       "  two_year_transaction_period  schedule_type increased_limit  \\\n",
       "0                        2022             SA             NaN   \n",
       "1                        2022             SA             NaN   \n",
       "2                        2022             SA             NaN   \n",
       "3                        2022             SA             NaN   \n",
       "4                        2022             SA             NaN   \n",
       "\n",
       "                sub_id                                            pdf_url  \\\n",
       "0  4031520211257321704  https://docquery.fec.gov/cgi-bin/fecimg/?20210...   \n",
       "1  4031520211257321705  https://docquery.fec.gov/cgi-bin/fecimg/?20210...   \n",
       "2  4031520211257530491  https://docquery.fec.gov/cgi-bin/fecimg/?20210...   \n",
       "3  4082520211343947337  https://docquery.fec.gov/cgi-bin/fecimg/?20210...   \n",
       "4  4082520211345817001  https://docquery.fec.gov/cgi-bin/fecimg/?20210...   \n",
       "\n",
       "                                   line_number_label  \n",
       "0  Contributions From Individuals/Persons Other T...  \n",
       "1  Contributions From Individuals/Persons Other T...  \n",
       "2  Contributions From Individuals/Persons Other T...  \n",
       "3  Contributions From Individuals/Persons Other T...  \n",
       "4  Contributions From Individuals/Persons Other T...  \n",
       "\n",
       "[5 rows x 79 columns]"
      ]
     },
     "execution_count": 274,
     "metadata": {},
     "output_type": "execute_result"
    }
   ],
   "source": [
    "bath.head()"
   ]
  },
  {
   "cell_type": "code",
   "execution_count": 275,
   "id": "47ddc8e7",
   "metadata": {},
   "outputs": [
    {
     "name": "stdout",
     "output_type": "stream",
     "text": [
      "['GALL, AMY' 'GREEN, CHARLIE' 'FOURNIER, ROGER' 'BOUTIN, JEANNETTE'\n",
      " 'HOMER, KELLY' 'ROWLEY, SUSAN']\n"
     ]
    }
   ],
   "source": [
    "contributor = bath['contributor_name'].unique()\n",
    "print(contributor)"
   ]
  },
  {
   "cell_type": "code",
   "execution_count": 276,
   "id": "918bc4fb",
   "metadata": {},
   "outputs": [
    {
     "data": {
      "text/plain": [
       "HOMER, KELLY         5\n",
       "ROWLEY, SUSAN        5\n",
       "GALL, AMY            2\n",
       "GREEN, CHARLIE       1\n",
       "FOURNIER, ROGER      1\n",
       "BOUTIN, JEANNETTE    1\n",
       "Name: contributor_name, dtype: int64"
      ]
     },
     "execution_count": 276,
     "metadata": {},
     "output_type": "execute_result"
    }
   ],
   "source": [
    "bath['contributor_name'].value_counts()"
   ]
  },
  {
   "cell_type": "code",
   "execution_count": 277,
   "id": "803be2b7",
   "metadata": {},
   "outputs": [],
   "source": [
    "homer = bath[bath['contributor_name'] == 'HOMER, KELLY']\n",
    "rowley = bath[bath['contributor_name'] == 'ROWLEY, SUSAN']\n",
    "gall = bath[bath['contributor_name'] == 'GALL, AMY']\n",
    "green = bath[bath['contributor_name'] == 'GREEN, CHARLIE']\n",
    "boutin = bath[bath['contributor_name'] == 'BOUTIN, JEANNETTE']\n",
    "fournier = bath[bath['contributor_name'] == 'FOURNIER, ROGER']"
   ]
  },
  {
   "cell_type": "code",
   "execution_count": 278,
   "id": "4246fadb",
   "metadata": {},
   "outputs": [
    {
     "data": {
      "image/png": "[encoded data removed]",
      "text/plain": [
       "<Figure size 432x288 with 1 Axes>"
      ]
     },
     "metadata": {
      "needs_background": "light"
     },
     "output_type": "display_data"
    }
   ],
   "source": [
    "fig, ax = plt.subplots()\n",
    "ax.bar(\"Kelly Homer\", homer['contribution_receipt_amount'].mean())\n",
    "ax.bar(\"Susan Rowley\", rowley['contribution_receipt_amount'].mean())\n",
    "ax.bar(\"Amy Gall\", gall['contribution_receipt_amount'].mean())\n",
    "ax.bar(\"Roger Fournier\", fournier['contribution_receipt_amount'].mean())\n",
    "ax.bar(\"Charlie Green\", green['contribution_receipt_amount'].mean())\n",
    "ax.bar(\"Jeannette Boutin\", boutin['contribution_receipt_amount'].mean())\n",
    "ax.set_ylabel(\"Contributed Amount ($)\")\n",
    "plt.xticks(rotation = 30, ha = 'right')\n",
    "plt.show()"
   ]
  },
  {
   "cell_type": "code",
   "execution_count": 279,
   "id": "87ff5de6",
   "metadata": {},
   "outputs": [
    {
     "data": {
      "text/plain": [
       "contributor_name\n",
       "BOUTIN, JEANNETTE    10.000\n",
       "FOURNIER, ROGER       7.000\n",
       "GALL, AMY             5.000\n",
       "GREEN, CHARLIE       10.000\n",
       "HOMER, KELLY         40.400\n",
       "ROWLEY, SUSAN         5.498\n",
       "Name: contribution_receipt_amount, dtype: float64"
      ]
     },
     "execution_count": 279,
     "metadata": {},
     "output_type": "execute_result"
    }
   ],
   "source": [
    "#explore the past average giving amount of donors\n",
    "amount_per_donor = bath.groupby('contributor_name').contribution_receipt_amount.mean()\n",
    "amount_per_donor"
   ]
  },
  {
   "cell_type": "code",
   "execution_count": 280,
   "id": "f8a6ca24",
   "metadata": {},
   "outputs": [],
   "source": [
    "#add new column for Past Average, Mininum, and Maximum Giving Amount by Donors\n",
    "bath['Number of Past Donations'] = bath.groupby('contributor_name').contribution_receipt_amount.transform('count')\n",
    "bath['Average Past Giving Amount'] = bath.groupby('contributor_name').contribution_receipt_amount.transform('mean')\n",
    "bath['Past Minimum Giving Amount'] = bath.groupby('contributor_name').contribution_receipt_amount.transform('min')\n",
    "bath['Past Maximum Giving Amount'] = bath.groupby('contributor_name').contribution_receipt_amount.transform('max')"
   ]
  },
  {
   "cell_type": "code",
   "execution_count": 281,
   "id": "a2215626",
   "metadata": {},
   "outputs": [],
   "source": [
    "#remove unnessary columns \n",
    "bath = bath.drop(columns= ['contribution_receipt_amount','report_type','recipient_committee_type',\n",
    "                               'contributor_prefix','image_number','line_number','contributor_aggregate_ytd',\n",
    "                               'file_number','transaction_id','committee_name.1','entity_type','unused_contbr_id',\n",
    "                               'recipient_committee_org_type','recipient_committee_designation',\n",
    "                               'contributor_first_name','contributor_middle_name','contributor_last_name',\n",
    "                               'contributor_suffix','contributor_street_2','contributor_id','receipt_type',\n",
    "                               'receipt_type_desc','receipt_type_full','memo_code','memo_code_full',\n",
    "                               'contribution_receipt_date','candidate_id','candidate_name','candidate_first_name',\n",
    "                               'candidate_last_name','candidate_middle_name','candidate_prefix',\n",
    "                               'candidate_suffix','candidate_office','candidate_office_full',\n",
    "                               'candidate_office_state','candidate_office_state_full','candidate_office_district',\n",
    "                               'conduit_committee_id','conduit_committee_name','conduit_committee_street1',\n",
    "                               'conduit_committee_street2','conduit_committee_city','conduit_committee_state',\n",
    "                               'conduit_committee_zip','donor_committee_name',\n",
    "                               'national_committee_nonfederal_account','election_type','election_type_full',\n",
    "                               'fec_election_type_desc','fec_election_year','amendment_indicator',\n",
    "                               'amendment_indicator_desc','schedule_type_full','load_date','original_sub_id',\n",
    "                               'back_reference_transaction_id','back_reference_schedule_name','filing_form',\n",
    "                               'link_id','is_individual','memo_text','two_year_transaction_period',\n",
    "                               'schedule_type','increased_limit','sub_id','pdf_url','line_number_label'])"
   ]
  },
  {
   "cell_type": "code",
   "execution_count": 282,
   "id": "94158aea",
   "metadata": {},
   "outputs": [],
   "source": [
    "#drop duplicates donors \n",
    "bath = bath.drop_duplicates(subset=['contributor_name'])"
   ]
  },
  {
   "cell_type": "code",
   "execution_count": 283,
   "id": "e6df92d1",
   "metadata": {},
   "outputs": [
    {
     "name": "stdout",
     "output_type": "stream",
     "text": [
      "  committee_id committee_name  report_year entity_type_desc  \\\n",
      "0    C00401224        ACTBLUE         2021       INDIVIDUAL   \n",
      "2    C00401224        ACTBLUE         2021       INDIVIDUAL   \n",
      "3    C00401224        ACTBLUE         2021       INDIVIDUAL   \n",
      "4    C00401224        ACTBLUE         2021       INDIVIDUAL   \n",
      "5    C00401224        ACTBLUE         2021       INDIVIDUAL   \n",
      "8    C00401224        ACTBLUE         2021       INDIVIDUAL   \n",
      "\n",
      "    contributor_name   contributor_street_1 contributor_city  \\\n",
      "0          GALL, AMY          723 LISBON RD             BATH   \n",
      "2     GREEN, CHARLIE          23 ABBOTT AVE             BATH   \n",
      "3    FOURNIER, ROGER         90 MONROE ROAD             BATH   \n",
      "4  BOUTIN, JEANNETTE    136 AMMONOOSUC AVE              BATH   \n",
      "5       HOMER, KELLY  192 WHITE MOUNTAIN RD             BATH   \n",
      "8      ROWLEY, SUSAN            6 HILL ROAD             BATH   \n",
      "\n",
      "  contributor_state  contributor_zip     contributor_employer  \\\n",
      "0                NH             3740             NOT EMPLOYED   \n",
      "2                NH             3740             NOT EMPLOYED   \n",
      "3                NH             3740          THE BRICK STORE   \n",
      "4                NH             3740  NORTHERN HUMAN SERVICES   \n",
      "5                NH             3740                     MCPS   \n",
      "8                NH             3740             NOT EMPLOYED   \n",
      "\n",
      "  contributor_occupation  Number of Past Donations  \\\n",
      "0           NOT EMPLOYED                         2   \n",
      "2           NOT EMPLOYED                         1   \n",
      "3  PART TIME DELI WORKER                         1   \n",
      "4     HOME CARE PROVIDER                         1   \n",
      "5                TEACHER                         5   \n",
      "8           NOT EMPLOYED                         5   \n",
      "\n",
      "   Average Past Giving Amount  Past Minimum Giving Amount  \\\n",
      "0                       5.000                         5.0   \n",
      "2                      10.000                        10.0   \n",
      "3                       7.000                         7.0   \n",
      "4                      10.000                        10.0   \n",
      "5                      40.400                        25.0   \n",
      "8                       5.498                         1.0   \n",
      "\n",
      "   Past Maximum Giving Amount  \n",
      "0                        5.00  \n",
      "2                       10.00  \n",
      "3                        7.00  \n",
      "4                       10.00  \n",
      "5                       50.00  \n",
      "8                       12.26  \n"
     ]
    }
   ],
   "source": [
    "print(bath)"
   ]
  },
  {
   "cell_type": "code",
   "execution_count": 284,
   "id": "654a61e0",
   "metadata": {},
   "outputs": [],
   "source": [
    "bath.to_csv(\"bath_donor_list.csv\",index=False)"
   ]
  },
  {
   "cell_type": "markdown",
   "id": "4d44b727",
   "metadata": {},
   "source": [
    "## Potential Donors in Benton, NH"
   ]
  },
  {
   "cell_type": "code",
   "execution_count": 285,
   "id": "24aa8dc8",
   "metadata": {},
   "outputs": [],
   "source": [
    "benton = pd.read_csv(\"fec_donor_benton.csv\")"
   ]
  },
  {
   "cell_type": "code",
   "execution_count": 286,
   "id": "7af30d7a",
   "metadata": {},
   "outputs": [
    {
     "data": {
      "text/html": [
       "<div>\n",
       "<style scoped>\n",
       "    .dataframe tbody tr th:only-of-type {\n",
       "        vertical-align: middle;\n",
       "    }\n",
       "\n",
       "    .dataframe tbody tr th {\n",
       "        vertical-align: top;\n",
       "    }\n",
       "\n",
       "    .dataframe thead th {\n",
       "        text-align: right;\n",
       "    }\n",
       "</style>\n",
       "<table border=\"1\" class=\"dataframe\">\n",
       "  <thead>\n",
       "    <tr style=\"text-align: right;\">\n",
       "      <th></th>\n",
       "      <th>committee_id</th>\n",
       "      <th>committee_name</th>\n",
       "      <th>report_year</th>\n",
       "      <th>report_type</th>\n",
       "      <th>image_number</th>\n",
       "      <th>line_number</th>\n",
       "      <th>transaction_id</th>\n",
       "      <th>file_number</th>\n",
       "      <th>committee_name.1</th>\n",
       "      <th>entity_type</th>\n",
       "      <th>...</th>\n",
       "      <th>filing_form</th>\n",
       "      <th>link_id</th>\n",
       "      <th>is_individual</th>\n",
       "      <th>memo_text</th>\n",
       "      <th>two_year_transaction_period</th>\n",
       "      <th>schedule_type</th>\n",
       "      <th>increased_limit</th>\n",
       "      <th>sub_id</th>\n",
       "      <th>pdf_url</th>\n",
       "      <th>line_number_label</th>\n",
       "    </tr>\n",
       "  </thead>\n",
       "  <tbody>\n",
       "    <tr>\n",
       "      <th>0</th>\n",
       "      <td>C00401224</td>\n",
       "      <td>ACTBLUE</td>\n",
       "      <td>2021</td>\n",
       "      <td>30R</td>\n",
       "      <td>202102049425307052</td>\n",
       "      <td>11AI</td>\n",
       "      <td>SA11AI_370397833</td>\n",
       "      <td>1498693</td>\n",
       "      <td>NaN</td>\n",
       "      <td>IND</td>\n",
       "      <td>...</td>\n",
       "      <td>F3X</td>\n",
       "      <td>4020920211123477024</td>\n",
       "      <td>t</td>\n",
       "      <td>EARMARKED FOR DEMOCRATIC ACTION (C00562983)</td>\n",
       "      <td>2022</td>\n",
       "      <td>SA</td>\n",
       "      <td>NaN</td>\n",
       "      <td>4031520211256158371</td>\n",
       "      <td>https://docquery.fec.gov/cgi-bin/fecimg/?20210...</td>\n",
       "      <td>Contributions From Individuals/Persons Other T...</td>\n",
       "    </tr>\n",
       "    <tr>\n",
       "      <th>1</th>\n",
       "      <td>C00401224</td>\n",
       "      <td>ACTBLUE</td>\n",
       "      <td>2021</td>\n",
       "      <td>30R</td>\n",
       "      <td>202102049425594002</td>\n",
       "      <td>11AI</td>\n",
       "      <td>SA11AI_366764045</td>\n",
       "      <td>1498693</td>\n",
       "      <td>NaN</td>\n",
       "      <td>IND</td>\n",
       "      <td>...</td>\n",
       "      <td>F3X</td>\n",
       "      <td>4020920211123477024</td>\n",
       "      <td>t</td>\n",
       "      <td>EARMARKED FOR DCCC (C00000935)</td>\n",
       "      <td>2022</td>\n",
       "      <td>SA</td>\n",
       "      <td>NaN</td>\n",
       "      <td>4031520211257714219</td>\n",
       "      <td>https://docquery.fec.gov/cgi-bin/fecimg/?20210...</td>\n",
       "      <td>Contributions From Individuals/Persons Other T...</td>\n",
       "    </tr>\n",
       "    <tr>\n",
       "      <th>2</th>\n",
       "      <td>C00401224</td>\n",
       "      <td>ACTBLUE</td>\n",
       "      <td>2021</td>\n",
       "      <td>30R</td>\n",
       "      <td>202102049425594002</td>\n",
       "      <td>11AI</td>\n",
       "      <td>SA11AI_366764044</td>\n",
       "      <td>1498693</td>\n",
       "      <td>NaN</td>\n",
       "      <td>IND</td>\n",
       "      <td>...</td>\n",
       "      <td>F3X</td>\n",
       "      <td>4020920211123477024</td>\n",
       "      <td>t</td>\n",
       "      <td>CONTRIBUTION TO ACTBLUE</td>\n",
       "      <td>2022</td>\n",
       "      <td>SA</td>\n",
       "      <td>NaN</td>\n",
       "      <td>4031520211257714220</td>\n",
       "      <td>https://docquery.fec.gov/cgi-bin/fecimg/?20210...</td>\n",
       "      <td>Contributions From Individuals/Persons Other T...</td>\n",
       "    </tr>\n",
       "    <tr>\n",
       "      <th>3</th>\n",
       "      <td>C00401224</td>\n",
       "      <td>ACTBLUE</td>\n",
       "      <td>2021</td>\n",
       "      <td>MY</td>\n",
       "      <td>202107319458729375</td>\n",
       "      <td>11AI</td>\n",
       "      <td>SA11AI_373085399</td>\n",
       "      <td>1533121</td>\n",
       "      <td>NaN</td>\n",
       "      <td>IND</td>\n",
       "      <td>...</td>\n",
       "      <td>F3X</td>\n",
       "      <td>4080120211324274388</td>\n",
       "      <td>t</td>\n",
       "      <td>CONTRIBUTION TO ACTBLUE</td>\n",
       "      <td>2022</td>\n",
       "      <td>SA</td>\n",
       "      <td>NaN</td>\n",
       "      <td>4082520211344695280</td>\n",
       "      <td>https://docquery.fec.gov/cgi-bin/fecimg/?20210...</td>\n",
       "      <td>Contributions From Individuals/Persons Other T...</td>\n",
       "    </tr>\n",
       "    <tr>\n",
       "      <th>4</th>\n",
       "      <td>C00401224</td>\n",
       "      <td>ACTBLUE</td>\n",
       "      <td>2021</td>\n",
       "      <td>MY</td>\n",
       "      <td>202107319458729376</td>\n",
       "      <td>11AI</td>\n",
       "      <td>SA11AI_373085400</td>\n",
       "      <td>1533121</td>\n",
       "      <td>NaN</td>\n",
       "      <td>IND</td>\n",
       "      <td>...</td>\n",
       "      <td>F3X</td>\n",
       "      <td>4080120211324274388</td>\n",
       "      <td>t</td>\n",
       "      <td>EARMARKED FOR DCCC (C00000935)</td>\n",
       "      <td>2022</td>\n",
       "      <td>SA</td>\n",
       "      <td>NaN</td>\n",
       "      <td>4082520211344695281</td>\n",
       "      <td>https://docquery.fec.gov/cgi-bin/fecimg/?20210...</td>\n",
       "      <td>Contributions From Individuals/Persons Other T...</td>\n",
       "    </tr>\n",
       "  </tbody>\n",
       "</table>\n",
       "<p>5 rows × 79 columns</p>\n",
       "</div>"
      ],
      "text/plain": [
       "  committee_id committee_name  report_year report_type        image_number  \\\n",
       "0    C00401224        ACTBLUE         2021         30R  202102049425307052   \n",
       "1    C00401224        ACTBLUE         2021         30R  202102049425594002   \n",
       "2    C00401224        ACTBLUE         2021         30R  202102049425594002   \n",
       "3    C00401224        ACTBLUE         2021          MY  202107319458729375   \n",
       "4    C00401224        ACTBLUE         2021          MY  202107319458729376   \n",
       "\n",
       "  line_number    transaction_id  file_number  committee_name.1 entity_type  \\\n",
       "0        11AI  SA11AI_370397833      1498693               NaN         IND   \n",
       "1        11AI  SA11AI_366764045      1498693               NaN         IND   \n",
       "2        11AI  SA11AI_366764044      1498693               NaN         IND   \n",
       "3        11AI  SA11AI_373085399      1533121               NaN         IND   \n",
       "4        11AI  SA11AI_373085400      1533121               NaN         IND   \n",
       "\n",
       "   ... filing_form              link_id  is_individual  \\\n",
       "0  ...         F3X  4020920211123477024              t   \n",
       "1  ...         F3X  4020920211123477024              t   \n",
       "2  ...         F3X  4020920211123477024              t   \n",
       "3  ...         F3X  4080120211324274388              t   \n",
       "4  ...         F3X  4080120211324274388              t   \n",
       "\n",
       "                                     memo_text two_year_transaction_period  \\\n",
       "0  EARMARKED FOR DEMOCRATIC ACTION (C00562983)                        2022   \n",
       "1               EARMARKED FOR DCCC (C00000935)                        2022   \n",
       "2                      CONTRIBUTION TO ACTBLUE                        2022   \n",
       "3                      CONTRIBUTION TO ACTBLUE                        2022   \n",
       "4               EARMARKED FOR DCCC (C00000935)                        2022   \n",
       "\n",
       "   schedule_type increased_limit               sub_id  \\\n",
       "0             SA             NaN  4031520211256158371   \n",
       "1             SA             NaN  4031520211257714219   \n",
       "2             SA             NaN  4031520211257714220   \n",
       "3             SA             NaN  4082520211344695280   \n",
       "4             SA             NaN  4082520211344695281   \n",
       "\n",
       "                                             pdf_url  \\\n",
       "0  https://docquery.fec.gov/cgi-bin/fecimg/?20210...   \n",
       "1  https://docquery.fec.gov/cgi-bin/fecimg/?20210...   \n",
       "2  https://docquery.fec.gov/cgi-bin/fecimg/?20210...   \n",
       "3  https://docquery.fec.gov/cgi-bin/fecimg/?20210...   \n",
       "4  https://docquery.fec.gov/cgi-bin/fecimg/?20210...   \n",
       "\n",
       "                                   line_number_label  \n",
       "0  Contributions From Individuals/Persons Other T...  \n",
       "1  Contributions From Individuals/Persons Other T...  \n",
       "2  Contributions From Individuals/Persons Other T...  \n",
       "3  Contributions From Individuals/Persons Other T...  \n",
       "4  Contributions From Individuals/Persons Other T...  \n",
       "\n",
       "[5 rows x 79 columns]"
      ]
     },
     "execution_count": 286,
     "metadata": {},
     "output_type": "execute_result"
    }
   ],
   "source": [
    "benton.head()"
   ]
  },
  {
   "cell_type": "code",
   "execution_count": 287,
   "id": "05ceab8d",
   "metadata": {},
   "outputs": [
    {
     "name": "stdout",
     "output_type": "stream",
     "text": [
      "['BOUTIN, MELINDA' 'HASSELL, JOYCE K']\n"
     ]
    }
   ],
   "source": [
    "contributor = benton['contributor_name'].unique()\n",
    "print(contributor)"
   ]
  },
  {
   "cell_type": "code",
   "execution_count": 288,
   "id": "0ec81495",
   "metadata": {},
   "outputs": [
    {
     "data": {
      "text/plain": [
       "HASSELL, JOYCE K    12\n",
       "BOUTIN, MELINDA      6\n",
       "Name: contributor_name, dtype: int64"
      ]
     },
     "execution_count": 288,
     "metadata": {},
     "output_type": "execute_result"
    }
   ],
   "source": [
    "benton['contributor_name'].value_counts()"
   ]
  },
  {
   "cell_type": "code",
   "execution_count": 289,
   "id": "85eb8008",
   "metadata": {},
   "outputs": [],
   "source": [
    "hassel = benton[benton['contributor_name'] == 'HASSELL, JOYCE K']\n",
    "boutin = benton[benton['contributor_name'] == 'BOUTIN, MELINDA']"
   ]
  },
  {
   "cell_type": "code",
   "execution_count": 290,
   "id": "e80d4da7",
   "metadata": {},
   "outputs": [
    {
     "data": {
      "image/png": "[encoded data removed]",
      "text/plain": [
       "<Figure size 432x288 with 1 Axes>"
      ]
     },
     "metadata": {
      "needs_background": "light"
     },
     "output_type": "display_data"
    }
   ],
   "source": [
    "fig, ax = plt.subplots()\n",
    "ax.bar(\"Joyce K Hassell\", hassel['contribution_receipt_amount'].mean())\n",
    "ax.bar(\"Melinda Boutin\", boutin['contribution_receipt_amount'].mean())\n",
    "ax.set_ylabel(\"Contributed Amount ($)\")\n",
    "ax.set_title(\"Average Past Giving Amount of Potential Donors in Benton, NH\",weight='bold')\n",
    "plt.show()"
   ]
  },
  {
   "cell_type": "code",
   "execution_count": 291,
   "id": "8667113a",
   "metadata": {},
   "outputs": [],
   "source": [
    "#add new column for Past Average Giving Amount\n",
    "benton['Number of Past Donations'] = benton.groupby('contributor_name').contribution_receipt_amount.transform('count')\n",
    "benton['Average Past Giving Amount'] = benton.groupby('contributor_name').contribution_receipt_amount.transform('mean')\n",
    "benton['Past Minimum Giving Amount'] = benton.groupby('contributor_name').contribution_receipt_amount.transform('min')\n",
    "benton['Past Maximum Giving Amount'] = benton.groupby('contributor_name').contribution_receipt_amount.transform('max')"
   ]
  },
  {
   "cell_type": "code",
   "execution_count": 292,
   "id": "0475fb44",
   "metadata": {},
   "outputs": [],
   "source": [
    "#remove unnessary columns \n",
    "benton = benton.drop(columns= ['contribution_receipt_amount','report_type','recipient_committee_type',\n",
    "                               'contributor_prefix','image_number','line_number','contributor_aggregate_ytd',\n",
    "                               'file_number','transaction_id','committee_name.1','entity_type','unused_contbr_id',\n",
    "                               'recipient_committee_org_type','recipient_committee_designation',\n",
    "                               'contributor_first_name','contributor_middle_name','contributor_last_name',\n",
    "                               'contributor_suffix','contributor_street_2','contributor_id','receipt_type',\n",
    "                               'receipt_type_desc','receipt_type_full','memo_code','memo_code_full',\n",
    "                               'contribution_receipt_date','candidate_id','candidate_name','candidate_first_name',\n",
    "                               'candidate_last_name','candidate_middle_name','candidate_prefix',\n",
    "                               'candidate_suffix','candidate_office','candidate_office_full',\n",
    "                               'candidate_office_state','candidate_office_state_full','candidate_office_district',\n",
    "                               'conduit_committee_id','conduit_committee_name','conduit_committee_street1',\n",
    "                               'conduit_committee_street2','conduit_committee_city','conduit_committee_state',\n",
    "                               'conduit_committee_zip','donor_committee_name',\n",
    "                               'national_committee_nonfederal_account','election_type','election_type_full',\n",
    "                               'fec_election_type_desc','fec_election_year','amendment_indicator',\n",
    "                               'amendment_indicator_desc','schedule_type_full','load_date','original_sub_id',\n",
    "                               'back_reference_transaction_id','back_reference_schedule_name','filing_form',\n",
    "                               'link_id','is_individual','memo_text','two_year_transaction_period',\n",
    "                               'schedule_type','increased_limit','sub_id','pdf_url','line_number_label'])"
   ]
  },
  {
   "cell_type": "code",
   "execution_count": 293,
   "id": "f89d3a09",
   "metadata": {},
   "outputs": [],
   "source": [
    "#drop duplicates donors \n",
    "benton = benton.drop_duplicates(subset=['contributor_name'])"
   ]
  },
  {
   "cell_type": "code",
   "execution_count": 294,
   "id": "7805660d",
   "metadata": {},
   "outputs": [
    {
     "name": "stdout",
     "output_type": "stream",
     "text": [
      "  committee_id committee_name  report_year entity_type_desc  contributor_name  \\\n",
      "0    C00401224        ACTBLUE         2021       INDIVIDUAL   BOUTIN, MELINDA   \n",
      "1    C00401224        ACTBLUE         2021       INDIVIDUAL  HASSELL, JOYCE K   \n",
      "\n",
      "  contributor_street_1 contributor_city contributor_state  contributor_zip  \\\n",
      "0      244 COVENTRY RD           BENTON                NH             3785   \n",
      "1  459 BRADLEY HILL RD           BENTON                NH             3785   \n",
      "\n",
      "  contributor_employer contributor_occupation  Number of Past Donations  \\\n",
      "0         NOT EMPLOYED           NOT EMPLOYED                         6   \n",
      "1         NOT EMPLOYED           NOT EMPLOYED                        12   \n",
      "\n",
      "   Average Past Giving Amount  Past Minimum Giving Amount  \\\n",
      "0                         5.0                         5.0   \n",
      "1                        15.0                         5.0   \n",
      "\n",
      "   Past Maximum Giving Amount  \n",
      "0                         5.0  \n",
      "1                        25.0  \n"
     ]
    }
   ],
   "source": [
    "print(benton)"
   ]
  },
  {
   "cell_type": "code",
   "execution_count": 295,
   "id": "dfad2d59",
   "metadata": {},
   "outputs": [],
   "source": [
    "benton.to_csv(\"benton_donor_list.csv\",index=False)"
   ]
  },
  {
   "cell_type": "markdown",
   "id": "6f9f3e16",
   "metadata": {},
   "source": [
    "##  Potential Donors in Berlin, NH"
   ]
  },
  {
   "cell_type": "code",
   "execution_count": 298,
   "id": "6f0c0ed3",
   "metadata": {},
   "outputs": [],
   "source": [
    "berlin = pd.read_csv(\"fec_donor_berlin.csv\")"
   ]
  },
  {
   "cell_type": "code",
   "execution_count": 299,
   "id": "bdda1396",
   "metadata": {},
   "outputs": [
    {
     "name": "stdout",
     "output_type": "stream",
     "text": [
      "['BARTOLI, JEAN' 'BAUBLIS, KATHERINE' 'BOSA, JEANNIE' 'BOSEN, THEODORE'\n",
      " 'BYRNE, CAROLE' 'CUMMINGS, CLAIRE' 'FROBURG, ALETHEA' 'GREGORY, HEATHER'\n",
      " 'GRENIER, PAUL' 'LAVERTU, SCOTT' 'LEVESQUE, PAUL' 'PEDERSEN, PAM'\n",
      " 'PELKEY, FRANCES' 'PERRAULT, DARLENE' 'SHUTE, PATRICIA' 'TREMBLAY, PAUL'\n",
      " 'VALLIERE, LOUISE' 'WOODARD, JULIA' 'SAMBRANO, DENISSE'\n",
      " 'WHITEHOUSE, WENDY' 'KELLEY, EAMON' 'BRADSHAW, CAM' 'LARSEN, DONA'\n",
      " 'MCCLELLAN, M' 'DODGE, CHARLES' 'HYNOSKY, MARGARET' 'HADDY, LESLIE'\n",
      " 'BURLOCK, FLOYD' 'NOEL, HENRY' 'CHAREST, SYLVIA L' 'HIGBEE, PETER'\n",
      " 'CREEGAN, MARTHA' 'LABELLE, BEVERLY' 'PRIMACK, MARK' 'NEVILLE, VICKI'\n",
      " 'COTE, ELAINE' 'BAKER, DONALD' 'BELANGER, BEN' 'WILLEY, JACQUELYN'\n",
      " 'HUGHES, DOREEN']\n"
     ]
    }
   ],
   "source": [
    "contributor = berlin['contributor_name'].unique()\n",
    "print(contributor)"
   ]
  },
  {
   "cell_type": "code",
   "execution_count": 300,
   "id": "046a5eeb",
   "metadata": {},
   "outputs": [
    {
     "data": {
      "text/plain": [
       "BOSA, JEANNIE         99\n",
       "BARTOLI, JEAN         53\n",
       "BAUBLIS, KATHERINE    43\n",
       "FROBURG, ALETHEA      28\n",
       "MCCLELLAN, M          25\n",
       "GRENIER, PAUL         24\n",
       "WOODARD, JULIA        18\n",
       "SHUTE, PATRICIA       14\n",
       "CUMMINGS, CLAIRE      12\n",
       "PELKEY, FRANCES       11\n",
       "VALLIERE, LOUISE       8\n",
       "BRADSHAW, CAM          6\n",
       "SAMBRANO, DENISSE      6\n",
       "PEDERSEN, PAM          6\n",
       "LABELLE, BEVERLY       6\n",
       "BOSEN, THEODORE        5\n",
       "BYRNE, CAROLE          4\n",
       "LARSEN, DONA           4\n",
       "CREEGAN, MARTHA        3\n",
       "HIGBEE, PETER          3\n",
       "BAKER, DONALD          3\n",
       "BELANGER, BEN          3\n",
       "DODGE, CHARLES         3\n",
       "HUGHES, DOREEN         3\n",
       "BURLOCK, FLOYD         2\n",
       "NOEL, HENRY            2\n",
       "LEVESQUE, PAUL         2\n",
       "PRIMACK, MARK          2\n",
       "NEVILLE, VICKI         2\n",
       "WHITEHOUSE, WENDY      1\n",
       "HYNOSKY, MARGARET      1\n",
       "HADDY, LESLIE          1\n",
       "CHAREST, SYLVIA L      1\n",
       "TREMBLAY, PAUL         1\n",
       "PERRAULT, DARLENE      1\n",
       "COTE, ELAINE           1\n",
       "LAVERTU, SCOTT         1\n",
       "GREGORY, HEATHER       1\n",
       "WILLEY, JACQUELYN      1\n",
       "KELLEY, EAMON          1\n",
       "Name: contributor_name, dtype: int64"
      ]
     },
     "execution_count": 300,
     "metadata": {},
     "output_type": "execute_result"
    }
   ],
   "source": [
    "berlin['contributor_name'].value_counts()"
   ]
  },
  {
   "cell_type": "code",
   "execution_count": 301,
   "id": "8fa113c3",
   "metadata": {},
   "outputs": [],
   "source": [
    "#add new column for Past Average Giving Amount\n",
    "berlin['Number of Past Donations'] = berlin.groupby('contributor_name').contribution_receipt_amount.transform('count')\n",
    "berlin['Average Past Giving Amount'] = berlin.groupby('contributor_name').contribution_receipt_amount.transform('mean')\n",
    "berlin['Past Minimum Giving Amount'] = berlin.groupby('contributor_name').contribution_receipt_amount.transform('min')\n",
    "berlin['Past Maximum Giving Amount'] = berlin.groupby('contributor_name').contribution_receipt_amount.transform('max')"
   ]
  },
  {
   "cell_type": "code",
   "execution_count": 302,
   "id": "ce4c4c3f",
   "metadata": {},
   "outputs": [],
   "source": [
    "#remove unnessary columns \n",
    "berlin = berlin.drop(columns= ['contribution_receipt_amount','report_type','recipient_committee_type',\n",
    "                               'contributor_prefix','image_number','line_number','contributor_aggregate_ytd',\n",
    "                               'file_number','transaction_id','committee_name.1','entity_type','unused_contbr_id',\n",
    "                               'recipient_committee_org_type','recipient_committee_designation',\n",
    "                               'contributor_first_name','contributor_middle_name','contributor_last_name',\n",
    "                               'contributor_suffix','contributor_street_2','contributor_id','receipt_type',\n",
    "                               'receipt_type_desc','receipt_type_full','memo_code','memo_code_full',\n",
    "                               'contribution_receipt_date','candidate_id','candidate_name','candidate_first_name',\n",
    "                               'candidate_last_name','candidate_middle_name','candidate_prefix',\n",
    "                               'candidate_suffix','candidate_office','candidate_office_full',\n",
    "                               'candidate_office_state','candidate_office_state_full','candidate_office_district',\n",
    "                               'conduit_committee_id','conduit_committee_name','conduit_committee_street1',\n",
    "                               'conduit_committee_street2','conduit_committee_city','conduit_committee_state',\n",
    "                               'conduit_committee_zip','donor_committee_name',\n",
    "                               'national_committee_nonfederal_account','election_type','election_type_full',\n",
    "                               'fec_election_type_desc','fec_election_year','amendment_indicator',\n",
    "                               'amendment_indicator_desc','schedule_type_full','load_date','original_sub_id',\n",
    "                               'back_reference_transaction_id','back_reference_schedule_name','filing_form',\n",
    "                               'link_id','is_individual','memo_text','two_year_transaction_period',\n",
    "                               'schedule_type','increased_limit','sub_id','pdf_url','line_number_label'])"
   ]
  },
  {
   "cell_type": "code",
   "execution_count": 303,
   "id": "7809a893",
   "metadata": {},
   "outputs": [],
   "source": [
    "#drop duplicates donors \n",
    "berlin = berlin.drop_duplicates(subset=['contributor_name'])"
   ]
  },
  {
   "cell_type": "code",
   "execution_count": 305,
   "id": "ac7af513",
   "metadata": {},
   "outputs": [],
   "source": [
    "berlin.to_csv(\"berlin_donor_list.csv\",index=False)"
   ]
  },
  {
   "cell_type": "markdown",
   "id": "b08afd3e",
   "metadata": {},
   "source": [
    "## Potential Donors in Bretton Woods, NH"
   ]
  },
  {
   "cell_type": "code",
   "execution_count": 306,
   "id": "0851b517",
   "metadata": {},
   "outputs": [],
   "source": [
    "bretton = pd.read_csv(\"fec_bretton_woods.csv\")"
   ]
  },
  {
   "cell_type": "code",
   "execution_count": 307,
   "id": "fd316b46",
   "metadata": {},
   "outputs": [
    {
     "name": "stdout",
     "output_type": "stream",
     "text": [
      "['CHISHOLM, FRANCES' 'JACOB, DANIEL' 'JACOB, DANIEL AND JANICE']\n"
     ]
    }
   ],
   "source": [
    "contributor = bretton['contributor_name'].unique()\n",
    "print(contributor)"
   ]
  },
  {
   "cell_type": "code",
   "execution_count": 308,
   "id": "3a0635b6",
   "metadata": {},
   "outputs": [
    {
     "data": {
      "text/plain": [
       "JACOB, DANIEL               22\n",
       "JACOB, DANIEL AND JANICE     5\n",
       "CHISHOLM, FRANCES            1\n",
       "Name: contributor_name, dtype: int64"
      ]
     },
     "execution_count": 308,
     "metadata": {},
     "output_type": "execute_result"
    }
   ],
   "source": [
    "bretton['contributor_name'].value_counts()"
   ]
  },
  {
   "cell_type": "code",
   "execution_count": 309,
   "id": "72d998a6",
   "metadata": {},
   "outputs": [],
   "source": [
    "#add new column for Past Average Giving Amount\n",
    "bretton['Number of Past Donations'] = bretton.groupby('contributor_name').contribution_receipt_amount.transform('count')\n",
    "bretton['Average Past Giving Amount'] = bretton.groupby('contributor_name').contribution_receipt_amount.transform('mean')\n",
    "bretton['Past Minimum Giving Amount'] = bretton.groupby('contributor_name').contribution_receipt_amount.transform('min')\n",
    "bretton['Past Maximum Giving Amount'] = bretton.groupby('contributor_name').contribution_receipt_amount.transform('max')"
   ]
  },
  {
   "cell_type": "code",
   "execution_count": 310,
   "id": "4e369103",
   "metadata": {},
   "outputs": [],
   "source": [
    "#remove unnessary columns \n",
    "bretton = bretton.drop(columns= ['contribution_receipt_amount','report_type','recipient_committee_type',\n",
    "                               'contributor_prefix','image_number','line_number','contributor_aggregate_ytd',\n",
    "                               'file_number','transaction_id','committee_name.1','entity_type','unused_contbr_id',\n",
    "                               'recipient_committee_org_type','recipient_committee_designation',\n",
    "                               'contributor_first_name','contributor_middle_name','contributor_last_name',\n",
    "                               'contributor_suffix','contributor_street_2','contributor_id','receipt_type',\n",
    "                               'receipt_type_desc','receipt_type_full','memo_code','memo_code_full',\n",
    "                               'contribution_receipt_date','candidate_id','candidate_name','candidate_first_name',\n",
    "                               'candidate_last_name','candidate_middle_name','candidate_prefix',\n",
    "                               'candidate_suffix','candidate_office','candidate_office_full',\n",
    "                               'candidate_office_state','candidate_office_state_full','candidate_office_district',\n",
    "                               'conduit_committee_id','conduit_committee_name','conduit_committee_street1',\n",
    "                               'conduit_committee_street2','conduit_committee_city','conduit_committee_state',\n",
    "                               'conduit_committee_zip','donor_committee_name',\n",
    "                               'national_committee_nonfederal_account','election_type','election_type_full',\n",
    "                               'fec_election_type_desc','fec_election_year','amendment_indicator',\n",
    "                               'amendment_indicator_desc','schedule_type_full','load_date','original_sub_id',\n",
    "                               'back_reference_transaction_id','back_reference_schedule_name','filing_form',\n",
    "                               'link_id','is_individual','memo_text','two_year_transaction_period',\n",
    "                               'schedule_type','increased_limit','sub_id','pdf_url','line_number_label'])"
   ]
  },
  {
   "cell_type": "code",
   "execution_count": 311,
   "id": "dd2b81c2",
   "metadata": {},
   "outputs": [],
   "source": [
    "#drop duplicates donors \n",
    "bretton = bretton.drop_duplicates(subset=['contributor_name'])"
   ]
  },
  {
   "cell_type": "code",
   "execution_count": 312,
   "id": "a1253176",
   "metadata": {},
   "outputs": [
    {
     "name": "stdout",
     "output_type": "stream",
     "text": [
      "  committee_id committee_name  report_year entity_type_desc  \\\n",
      "0    C00401224        ACTBLUE         2021       INDIVIDUAL   \n",
      "1    C00401224        ACTBLUE         2021       INDIVIDUAL   \n",
      "4    C00401224        ACTBLUE         2021       INDIVIDUAL   \n",
      "\n",
      "           contributor_name           contributor_street_1 contributor_city  \\\n",
      "0         CHISHOLM, FRANCES  310 MOUNT WASHINGTON HOTEL RD    BRETTON WOODS   \n",
      "1             JACOB, DANIEL     310 MT WASHINGTON HOTEL RD    BRETTON WOODS   \n",
      "4  JACOB, DANIEL AND JANICE     310 MT WASHINGTON HOTEL RD    BRETTON WOODS   \n",
      "\n",
      "  contributor_state  contributor_zip contributor_employer  \\\n",
      "0                NH             3575         NOT EMPLOYED   \n",
      "1                NH             3575   HARVARD UNIVERSITY   \n",
      "4                NH             3575   HARVARD UNIVERSITY   \n",
      "\n",
      "  contributor_occupation  Number of Past Donations  \\\n",
      "0           NOT EMPLOYED                         1   \n",
      "1              PROFESSOR                        22   \n",
      "4              PROFESSOR                         5   \n",
      "\n",
      "   Average Past Giving Amount  Past Minimum Giving Amount  \\\n",
      "0                   20.000000                        20.0   \n",
      "1                   18.863636                        15.0   \n",
      "4                   25.000000                        25.0   \n",
      "\n",
      "   Past Maximum Giving Amount  \n",
      "0                        20.0  \n",
      "1                        20.0  \n",
      "4                        25.0  \n"
     ]
    }
   ],
   "source": [
    "print(bretton)"
   ]
  },
  {
   "cell_type": "code",
   "execution_count": 313,
   "id": "0cc2ffab",
   "metadata": {},
   "outputs": [],
   "source": [
    "bretton.to_csv(\"bretton_donor_list.csv\",index=False)"
   ]
  },
  {
   "cell_type": "markdown",
   "id": "651a8a4d",
   "metadata": {},
   "source": [
    "## Potential Donors in Bethlehem, NH"
   ]
  },
  {
   "cell_type": "code",
   "execution_count": 315,
   "id": "52f5f2eb",
   "metadata": {},
   "outputs": [],
   "source": [
    "bethlehem = pd.read_csv(\"fec_donor_ BETHLEHEM.csv\")"
   ]
  },
  {
   "cell_type": "code",
   "execution_count": 316,
   "id": "405261fc",
   "metadata": {},
   "outputs": [],
   "source": [
    "#add new column for Past Average Giving Amount\n",
    "bethlehem['Number of Past Donations'] = bethlehem.groupby('contributor_name').contribution_receipt_amount.transform('count')\n",
    "bethlehem['Average Past Giving Amount'] = bethlehem.groupby('contributor_name').contribution_receipt_amount.transform('mean')\n",
    "bethlehem['Past Minimum Giving Amount'] = bethlehem.groupby('contributor_name').contribution_receipt_amount.transform('min')\n",
    "bethlehem['Past Maximum Giving Amount'] = bethlehem.groupby('contributor_name').contribution_receipt_amount.transform('max')"
   ]
  },
  {
   "cell_type": "code",
   "execution_count": 317,
   "id": "f1fba78c",
   "metadata": {},
   "outputs": [],
   "source": [
    "#remove unnessary columns \n",
    "bethlehem = bethlehem.drop(columns= ['contribution_receipt_amount','report_type','recipient_committee_type',\n",
    "                               'contributor_prefix','image_number','line_number','contributor_aggregate_ytd',\n",
    "                               'file_number','transaction_id','committee_name.1','entity_type','unused_contbr_id',\n",
    "                               'recipient_committee_org_type','recipient_committee_designation',\n",
    "                               'contributor_first_name','contributor_middle_name','contributor_last_name',\n",
    "                               'contributor_suffix','contributor_street_2','contributor_id','receipt_type',\n",
    "                               'receipt_type_desc','receipt_type_full','memo_code','memo_code_full',\n",
    "                               'contribution_receipt_date','candidate_id','candidate_name','candidate_first_name',\n",
    "                               'candidate_last_name','candidate_middle_name','candidate_prefix',\n",
    "                               'candidate_suffix','candidate_office','candidate_office_full',\n",
    "                               'candidate_office_state','candidate_office_state_full','candidate_office_district',\n",
    "                               'conduit_committee_id','conduit_committee_name','conduit_committee_street1',\n",
    "                               'conduit_committee_street2','conduit_committee_city','conduit_committee_state',\n",
    "                               'conduit_committee_zip','donor_committee_name',\n",
    "                               'national_committee_nonfederal_account','election_type','election_type_full',\n",
    "                               'fec_election_type_desc','fec_election_year','amendment_indicator',\n",
    "                               'amendment_indicator_desc','schedule_type_full','load_date','original_sub_id',\n",
    "                               'back_reference_transaction_id','back_reference_schedule_name','filing_form',\n",
    "                               'link_id','is_individual','memo_text','two_year_transaction_period',\n",
    "                               'schedule_type','increased_limit','sub_id','pdf_url','line_number_label'])"
   ]
  },
  {
   "cell_type": "code",
   "execution_count": 318,
   "id": "a3a47857",
   "metadata": {},
   "outputs": [],
   "source": [
    "#drop duplicates donors \n",
    "bethlehem = bethlehem.drop_duplicates(subset=['contributor_name'])"
   ]
  },
  {
   "cell_type": "code",
   "execution_count": 321,
   "id": "8d0aaabf",
   "metadata": {},
   "outputs": [],
   "source": [
    "bethlehem.to_csv(\"bethlehem_donor_list.csv\",index=False)"
   ]
  },
  {
   "cell_type": "markdown",
   "id": "822225ab",
   "metadata": {},
   "source": [
    "## Potential Donors in Concord, NH"
   ]
  },
  {
   "cell_type": "code",
   "execution_count": 322,
   "id": "69303982",
   "metadata": {},
   "outputs": [],
   "source": [
    "concord = pd.read_csv(\"fec_concord.csv\")"
   ]
  },
  {
   "cell_type": "code",
   "execution_count": 323,
   "id": "873cf437",
   "metadata": {},
   "outputs": [],
   "source": [
    "#add new column for Past Average Giving Amount\n",
    "concord['Number of Past Donations'] = concord.groupby('contributor_name').contribution_receipt_amount.transform('count')\n",
    "concord['Average Past Giving Amount'] = concord.groupby('contributor_name').contribution_receipt_amount.transform('mean')\n",
    "concord['Past Minimum Giving Amount'] = concord.groupby('contributor_name').contribution_receipt_amount.transform('min')\n",
    "concord['Past Maximum Giving Amount'] = concord.groupby('contributor_name').contribution_receipt_amount.transform('max')"
   ]
  },
  {
   "cell_type": "code",
   "execution_count": 324,
   "id": "af834c1b",
   "metadata": {},
   "outputs": [],
   "source": [
    "#remove unnessary columns \n",
    "concord = concord.drop(columns= ['contribution_receipt_amount','report_type','recipient_committee_type',\n",
    "                               'contributor_prefix','image_number','line_number','contributor_aggregate_ytd',\n",
    "                               'file_number','transaction_id','committee_name.1','entity_type','unused_contbr_id',\n",
    "                               'recipient_committee_org_type','recipient_committee_designation',\n",
    "                               'contributor_first_name','contributor_middle_name','contributor_last_name',\n",
    "                               'contributor_suffix','contributor_street_2','contributor_id','receipt_type',\n",
    "                               'receipt_type_desc','receipt_type_full','memo_code','memo_code_full',\n",
    "                               'contribution_receipt_date','candidate_id','candidate_name','candidate_first_name',\n",
    "                               'candidate_last_name','candidate_middle_name','candidate_prefix',\n",
    "                               'candidate_suffix','candidate_office','candidate_office_full',\n",
    "                               'candidate_office_state','candidate_office_state_full','candidate_office_district',\n",
    "                               'conduit_committee_id','conduit_committee_name','conduit_committee_street1',\n",
    "                               'conduit_committee_street2','conduit_committee_city','conduit_committee_state',\n",
    "                               'conduit_committee_zip','donor_committee_name',\n",
    "                               'national_committee_nonfederal_account','election_type','election_type_full',\n",
    "                               'fec_election_type_desc','fec_election_year','amendment_indicator',\n",
    "                               'amendment_indicator_desc','schedule_type_full','load_date','original_sub_id',\n",
    "                               'back_reference_transaction_id','back_reference_schedule_name','filing_form',\n",
    "                               'link_id','is_individual','memo_text','two_year_transaction_period',\n",
    "                               'schedule_type','increased_limit','sub_id','pdf_url','line_number_label'])\n",
    "#drop duplicates donors \n",
    "concord = concord.drop_duplicates(subset=['contributor_name'])"
   ]
  },
  {
   "cell_type": "code",
   "execution_count": 326,
   "id": "cb7838b2",
   "metadata": {},
   "outputs": [],
   "source": [
    "concord.to_csv(\"concord_donor_list.csv\",index=False)"
   ]
  },
  {
   "cell_type": "markdown",
   "id": "4a8bb60b",
   "metadata": {},
   "source": [
    "## Potential Donors in Claremont, NH"
   ]
  },
  {
   "cell_type": "code",
   "execution_count": 327,
   "id": "27b90901",
   "metadata": {},
   "outputs": [],
   "source": [
    "claremont = pd.read_csv(\"fec_claremont.csv\")"
   ]
  },
  {
   "cell_type": "code",
   "execution_count": 328,
   "id": "aec9027b",
   "metadata": {},
   "outputs": [],
   "source": [
    "#add new column for Past Average Giving Amount\n",
    "claremont['Number of Past Donations'] = claremont.groupby('contributor_name').contribution_receipt_amount.transform('count')\n",
    "claremont['Average Past Giving Amount'] = claremont.groupby('contributor_name').contribution_receipt_amount.transform('mean')\n",
    "claremont['Past Minimum Giving Amount'] = claremont.groupby('contributor_name').contribution_receipt_amount.transform('min')\n",
    "claremont['Past Maximum Giving Amount'] = claremont.groupby('contributor_name').contribution_receipt_amount.transform('max')"
   ]
  },
  {
   "cell_type": "code",
   "execution_count": 329,
   "id": "cc7c1305",
   "metadata": {},
   "outputs": [],
   "source": [
    "#remove unnessary columns \n",
    "claremont = claremont.drop(columns= ['contribution_receipt_amount','report_type','recipient_committee_type',\n",
    "                               'contributor_prefix','image_number','line_number','contributor_aggregate_ytd',\n",
    "                               'file_number','transaction_id','committee_name.1','entity_type','unused_contbr_id',\n",
    "                               'recipient_committee_org_type','recipient_committee_designation',\n",
    "                               'contributor_first_name','contributor_middle_name','contributor_last_name',\n",
    "                               'contributor_suffix','contributor_street_2','contributor_id','receipt_type',\n",
    "                               'receipt_type_desc','receipt_type_full','memo_code','memo_code_full',\n",
    "                               'contribution_receipt_date','candidate_id','candidate_name','candidate_first_name',\n",
    "                               'candidate_last_name','candidate_middle_name','candidate_prefix',\n",
    "                               'candidate_suffix','candidate_office','candidate_office_full',\n",
    "                               'candidate_office_state','candidate_office_state_full','candidate_office_district',\n",
    "                               'conduit_committee_id','conduit_committee_name','conduit_committee_street1',\n",
    "                               'conduit_committee_street2','conduit_committee_city','conduit_committee_state',\n",
    "                               'conduit_committee_zip','donor_committee_name',\n",
    "                               'national_committee_nonfederal_account','election_type','election_type_full',\n",
    "                               'fec_election_type_desc','fec_election_year','amendment_indicator',\n",
    "                               'amendment_indicator_desc','schedule_type_full','load_date','original_sub_id',\n",
    "                               'back_reference_transaction_id','back_reference_schedule_name','filing_form',\n",
    "                               'link_id','is_individual','memo_text','two_year_transaction_period',\n",
    "                               'schedule_type','increased_limit','sub_id','pdf_url','line_number_label'])\n",
    "#drop duplicates donors \n",
    "claremont = claremont.drop_duplicates(subset=['contributor_name'])"
   ]
  },
  {
   "cell_type": "code",
   "execution_count": 330,
   "id": "06fdeb36",
   "metadata": {},
   "outputs": [],
   "source": [
    "claremont.to_csv(\"claremont_donor_list.csv\",index=False)"
   ]
  },
  {
   "cell_type": "markdown",
   "id": "1a82b7ad",
   "metadata": {},
   "source": [
    "## Potential Donors in Dalton, NH"
   ]
  },
  {
   "cell_type": "code",
   "execution_count": 331,
   "id": "52ac4b68",
   "metadata": {},
   "outputs": [],
   "source": [
    "dalton = pd.read_csv(\"fec_dalton.csv\")"
   ]
  },
  {
   "cell_type": "code",
   "execution_count": 332,
   "id": "7c429f4a",
   "metadata": {},
   "outputs": [],
   "source": [
    "#add new column for Past Average Giving Amount\n",
    "dalton['Number of Past Donations'] = dalton.groupby('contributor_name').contribution_receipt_amount.transform('count')\n",
    "dalton['Average Past Giving Amount'] = dalton.groupby('contributor_name').contribution_receipt_amount.transform('mean')\n",
    "dalton['Past Minimum Giving Amount'] = dalton.groupby('contributor_name').contribution_receipt_amount.transform('min')\n",
    "dalton['Past Maximum Giving Amount'] = dalton.groupby('contributor_name').contribution_receipt_amount.transform('max')"
   ]
  },
  {
   "cell_type": "code",
   "execution_count": 333,
   "id": "862c6b0e",
   "metadata": {},
   "outputs": [],
   "source": [
    "#remove unnessary columns \n",
    "dalton = dalton.drop(columns= ['contribution_receipt_amount','report_type','recipient_committee_type',\n",
    "                               'contributor_prefix','image_number','line_number','contributor_aggregate_ytd',\n",
    "                               'file_number','transaction_id','committee_name.1','entity_type','unused_contbr_id',\n",
    "                               'recipient_committee_org_type','recipient_committee_designation',\n",
    "                               'contributor_first_name','contributor_middle_name','contributor_last_name',\n",
    "                               'contributor_suffix','contributor_street_2','contributor_id','receipt_type',\n",
    "                               'receipt_type_desc','receipt_type_full','memo_code','memo_code_full',\n",
    "                               'contribution_receipt_date','candidate_id','candidate_name','candidate_first_name',\n",
    "                               'candidate_last_name','candidate_middle_name','candidate_prefix',\n",
    "                               'candidate_suffix','candidate_office','candidate_office_full',\n",
    "                               'candidate_office_state','candidate_office_state_full','candidate_office_district',\n",
    "                               'conduit_committee_id','conduit_committee_name','conduit_committee_street1',\n",
    "                               'conduit_committee_street2','conduit_committee_city','conduit_committee_state',\n",
    "                               'conduit_committee_zip','donor_committee_name',\n",
    "                               'national_committee_nonfederal_account','election_type','election_type_full',\n",
    "                               'fec_election_type_desc','fec_election_year','amendment_indicator',\n",
    "                               'amendment_indicator_desc','schedule_type_full','load_date','original_sub_id',\n",
    "                               'back_reference_transaction_id','back_reference_schedule_name','filing_form',\n",
    "                               'link_id','is_individual','memo_text','two_year_transaction_period',\n",
    "                               'schedule_type','increased_limit','sub_id','pdf_url','line_number_label'])\n",
    "#drop duplicates donors \n",
    "dalton = dalton.drop_duplicates(subset=['contributor_name'])"
   ]
  },
  {
   "cell_type": "code",
   "execution_count": 334,
   "id": "e3ab973d",
   "metadata": {},
   "outputs": [],
   "source": [
    "dalton.to_csv(\"dalton_donor_list.csv\",index=False)"
   ]
  },
  {
   "cell_type": "markdown",
   "id": "ca6d9c0e",
   "metadata": {},
   "source": [
    "## Potential Donors in Franconia, NH"
   ]
  },
  {
   "cell_type": "code",
   "execution_count": 335,
   "id": "74a2a140",
   "metadata": {},
   "outputs": [],
   "source": [
    "franconia = pd.read_csv(\"fec_franconia.csv\")"
   ]
  },
  {
   "cell_type": "code",
   "execution_count": 337,
   "id": "9e3d1790",
   "metadata": {},
   "outputs": [],
   "source": [
    "#add new column for Past Average Giving Amount\n",
    "franconia['Number of Past Donations'] = franconia.groupby('contributor_name').contribution_receipt_amount.transform('count')\n",
    "franconia['Average Past Giving Amount'] = franconia.groupby('contributor_name').contribution_receipt_amount.transform('mean')\n",
    "franconia['Past Minimum Giving Amount'] = franconia.groupby('contributor_name').contribution_receipt_amount.transform('min')\n",
    "franconia['Past Maximum Giving Amount'] = franconia.groupby('contributor_name').contribution_receipt_amount.transform('max')"
   ]
  },
  {
   "cell_type": "code",
   "execution_count": 338,
   "id": "80a50a1c",
   "metadata": {},
   "outputs": [],
   "source": [
    "#remove unnessary columns \n",
    "franconia = franconia.drop(columns= ['contribution_receipt_amount','report_type','recipient_committee_type',\n",
    "                               'contributor_prefix','image_number','line_number','contributor_aggregate_ytd',\n",
    "                               'file_number','transaction_id','committee_name.1','entity_type','unused_contbr_id',\n",
    "                               'recipient_committee_org_type','recipient_committee_designation',\n",
    "                               'contributor_first_name','contributor_middle_name','contributor_last_name',\n",
    "                               'contributor_suffix','contributor_street_2','contributor_id','receipt_type',\n",
    "                               'receipt_type_desc','receipt_type_full','memo_code','memo_code_full',\n",
    "                               'contribution_receipt_date','candidate_id','candidate_name','candidate_first_name',\n",
    "                               'candidate_last_name','candidate_middle_name','candidate_prefix',\n",
    "                               'candidate_suffix','candidate_office','candidate_office_full',\n",
    "                               'candidate_office_state','candidate_office_state_full','candidate_office_district',\n",
    "                               'conduit_committee_id','conduit_committee_name','conduit_committee_street1',\n",
    "                               'conduit_committee_street2','conduit_committee_city','conduit_committee_state',\n",
    "                               'conduit_committee_zip','donor_committee_name',\n",
    "                               'national_committee_nonfederal_account','election_type','election_type_full',\n",
    "                               'fec_election_type_desc','fec_election_year','amendment_indicator',\n",
    "                               'amendment_indicator_desc','schedule_type_full','load_date','original_sub_id',\n",
    "                               'back_reference_transaction_id','back_reference_schedule_name','filing_form',\n",
    "                               'link_id','is_individual','memo_text','two_year_transaction_period',\n",
    "                               'schedule_type','increased_limit','sub_id','pdf_url','line_number_label'])\n",
    "#drop duplicates donors \n",
    "franconia = franconia.drop_duplicates(subset=['contributor_name'])"
   ]
  },
  {
   "cell_type": "code",
   "execution_count": 339,
   "id": "9fc07fb0",
   "metadata": {},
   "outputs": [],
   "source": [
    "franconia.to_csv(\"franconia_donor_list.csv\",index=False)"
   ]
  },
  {
   "cell_type": "markdown",
   "id": "153f5c10",
   "metadata": {},
   "source": [
    "## Potential Donors in Gorham, NH"
   ]
  },
  {
   "cell_type": "code",
   "execution_count": 341,
   "id": "2b91b476",
   "metadata": {},
   "outputs": [],
   "source": [
    "gorham = pd.read_csv(\"fec_gorham.csv\")"
   ]
  },
  {
   "cell_type": "code",
   "execution_count": 342,
   "id": "8b02c8f6",
   "metadata": {},
   "outputs": [],
   "source": [
    "#add new column for Past Average Giving Amount\n",
    "gorham['Number of Past Donations'] = gorham.groupby('contributor_name').contribution_receipt_amount.transform('count')\n",
    "gorham['Average Past Giving Amount'] = gorham.groupby('contributor_name').contribution_receipt_amount.transform('mean')\n",
    "gorham['Past Minimum Giving Amount'] = gorham.groupby('contributor_name').contribution_receipt_amount.transform('min')\n",
    "gorham['Past Maximum Giving Amount'] = gorham.groupby('contributor_name').contribution_receipt_amount.transform('max')"
   ]
  },
  {
   "cell_type": "code",
   "execution_count": 343,
   "id": "3236ed27",
   "metadata": {},
   "outputs": [],
   "source": [
    "#remove unnessary columns \n",
    "gorham = gorham.drop(columns= ['contribution_receipt_amount','report_type','recipient_committee_type',\n",
    "                               'contributor_prefix','image_number','line_number','contributor_aggregate_ytd',\n",
    "                               'file_number','transaction_id','committee_name.1','entity_type','unused_contbr_id',\n",
    "                               'recipient_committee_org_type','recipient_committee_designation',\n",
    "                               'contributor_first_name','contributor_middle_name','contributor_last_name',\n",
    "                               'contributor_suffix','contributor_street_2','contributor_id','receipt_type',\n",
    "                               'receipt_type_desc','receipt_type_full','memo_code','memo_code_full',\n",
    "                               'contribution_receipt_date','candidate_id','candidate_name','candidate_first_name',\n",
    "                               'candidate_last_name','candidate_middle_name','candidate_prefix',\n",
    "                               'candidate_suffix','candidate_office','candidate_office_full',\n",
    "                               'candidate_office_state','candidate_office_state_full','candidate_office_district',\n",
    "                               'conduit_committee_id','conduit_committee_name','conduit_committee_street1',\n",
    "                               'conduit_committee_street2','conduit_committee_city','conduit_committee_state',\n",
    "                               'conduit_committee_zip','donor_committee_name',\n",
    "                               'national_committee_nonfederal_account','election_type','election_type_full',\n",
    "                               'fec_election_type_desc','fec_election_year','amendment_indicator',\n",
    "                               'amendment_indicator_desc','schedule_type_full','load_date','original_sub_id',\n",
    "                               'back_reference_transaction_id','back_reference_schedule_name','filing_form',\n",
    "                               'link_id','is_individual','memo_text','two_year_transaction_period',\n",
    "                               'schedule_type','increased_limit','sub_id','pdf_url','line_number_label'])\n",
    "\n",
    "#drop duplicates donors \n",
    "gorham = gorham.drop_duplicates(subset=['contributor_name'])"
   ]
  },
  {
   "cell_type": "code",
   "execution_count": 344,
   "id": "fbb1d411",
   "metadata": {},
   "outputs": [],
   "source": [
    "gorham.to_csv(\"gorham_donor_list.csv\",index=False)"
   ]
  },
  {
   "cell_type": "markdown",
   "id": "fd230d65",
   "metadata": {},
   "source": [
    "## Combine all csv files "
   ]
  },
  {
   "cell_type": "code",
   "execution_count": 345,
   "id": "27fd6504",
   "metadata": {},
   "outputs": [
    {
     "name": "stdout",
     "output_type": "stream",
     "text": [
      "   committee_id            committee_name  report_year entity_type_desc  \\\n",
      "0     C00401224                   ACTBLUE         2021       INDIVIDUAL   \n",
      "1     C00401224                   ACTBLUE         2021       INDIVIDUAL   \n",
      "2     C00401224                   ACTBLUE         2021       INDIVIDUAL   \n",
      "3     C00401224                   ACTBLUE         2021       INDIVIDUAL   \n",
      "4     C00401224                   ACTBLUE         2021       INDIVIDUAL   \n",
      "..          ...                       ...          ...              ...   \n",
      "15    C00401224                   ACTBLUE         2021       INDIVIDUAL   \n",
      "16    C00401224                   ACTBLUE         2021       INDIVIDUAL   \n",
      "17    C00401224                   ACTBLUE         2021       INDIVIDUAL   \n",
      "18    C00401224                   ACTBLUE         2021       INDIVIDUAL   \n",
      "19    C00462861  KUSTER FOR CONGRESS, INC         2021       INDIVIDUAL   \n",
      "\n",
      "     contributor_name   contributor_street_1 contributor_city  \\\n",
      "0           GALL, AMY          723 LISBON RD             BATH   \n",
      "1      GREEN, CHARLIE          23 ABBOTT AVE             BATH   \n",
      "2     FOURNIER, ROGER         90 MONROE ROAD             BATH   \n",
      "3   BOUTIN, JEANNETTE    136 AMMONOOSUC AVE              BATH   \n",
      "4        HOMER, KELLY  192 WHITE MOUNTAIN RD             BATH   \n",
      "..                ...                    ...              ...   \n",
      "15        LAKE, ANNIE       34B EXCHANGE ST            GORHAM   \n",
      "16     TURGEON, CHRIS           29 ALPINE ST           GORHAM   \n",
      "17  KOOPMAN, WINIFRED           51 GLEN ROAD           GORHAM   \n",
      "18        DION, DAVID  40 PROMENADE ST APT 8           GORHAM   \n",
      "19    WETZEL, RICHARD     21 MOUNT CARTER DR           GORHAM   \n",
      "\n",
      "   contributor_state  contributor_zip     contributor_employer  \\\n",
      "0                 NH             3740             NOT EMPLOYED   \n",
      "1                 NH             3740             NOT EMPLOYED   \n",
      "2                 NH             3740          THE BRICK STORE   \n",
      "3                 NH             3740  NORTHERN HUMAN SERVICES   \n",
      "4                 NH             3740                     MCPS   \n",
      "..               ...              ...                      ...   \n",
      "15                NH             3581     NORTH COUNTRY DENTAL   \n",
      "16                NH         35811229             NOT EMPLOYED   \n",
      "17                NH         35811323             NOT EMPLOYED   \n",
      "18                NH             3581      ROAD HAWG RESTURANT   \n",
      "19                NH         35811317             NOT EMPLOYED   \n",
      "\n",
      "   contributor_occupation  Number of Past Donations  \\\n",
      "0            NOT EMPLOYED                         2   \n",
      "1            NOT EMPLOYED                         1   \n",
      "2   PART TIME DELI WORKER                         1   \n",
      "3      HOME CARE PROVIDER                         1   \n",
      "4                 TEACHER                         5   \n",
      "..                    ...                       ...   \n",
      "15       DENTAL HYGIENIST                         1   \n",
      "16           NOT EMPLOYED                         3   \n",
      "17           NOT EMPLOYED                         5   \n",
      "18         KITCHEN WORKER                         3   \n",
      "19           NOT EMPLOYED                         2   \n",
      "\n",
      "    Average Past Giving Amount  Past Minimum Giving Amount  \\\n",
      "0                     5.000000                        5.00   \n",
      "1                    10.000000                       10.00   \n",
      "2                     7.000000                        7.00   \n",
      "3                    10.000000                       10.00   \n",
      "4                    40.400000                       25.00   \n",
      "..                         ...                         ...   \n",
      "15                   12.260000                       12.26   \n",
      "16                    2.000000                        1.00   \n",
      "17                   18.044000                        5.00   \n",
      "18                    6.833333                        0.50   \n",
      "19                  150.000000                      150.00   \n",
      "\n",
      "    Past Maximum Giving Amount  \n",
      "0                         5.00  \n",
      "1                        10.00  \n",
      "2                         7.00  \n",
      "3                        10.00  \n",
      "4                        50.00  \n",
      "..                         ...  \n",
      "15                       12.26  \n",
      "16                        2.50  \n",
      "17                       35.00  \n",
      "18                       15.00  \n",
      "19                      150.00  \n",
      "\n",
      "[842 rows x 15 columns]\n"
     ]
    }
   ],
   "source": [
    "csv_file_list = [\"bath_donor_list.csv\", \"benton_donor_list.csv\",\n",
    "                 \"berlin_donor_list.csv\",\"bretton_donor_list.csv\",\n",
    "                 \"bethlehem_donor_list.csv\",\"concord_donor_list.csv\",\n",
    "                 \"claremont_donor_list.csv\",\"dalton_donor_list.csv\",\n",
    "                 \"franconia_donor_list.csv\",\"gorham_donor_list.csv\"]\n",
    "\n",
    "list_of_dataframes = []\n",
    "for filename in csv_file_list:\n",
    "    list_of_dataframes.append(pd.read_csv(filename))\n",
    "\n",
    "potential_donors = pd.concat(list_of_dataframes)\n",
    "\n",
    "print(potential_donors)"
   ]
  },
  {
   "cell_type": "code",
   "execution_count": 346,
   "id": "6198d377",
   "metadata": {},
   "outputs": [],
   "source": [
    "potential_donors.to_csv(\"potential_donor_list.csv\",index=False)"
   ]
  },
  {
   "cell_type": "code",
   "execution_count": null,
   "id": "a16fdc13",
   "metadata": {},
   "outputs": [],
   "source": []
  }
 ],
 "metadata": {
  "kernelspec": {
   "display_name": "Python 3 (ipykernel)",
   "language": "python",
   "name": "python3"
  },
  "language_info": {
   "codemirror_mode": {
    "name": "ipython",
    "version": 3
   },
   "file_extension": ".py",
   "mimetype": "text/x-python",
   "name": "python",
   "nbconvert_exporter": "python",
   "pygments_lexer": "ipython3",
   "version": "3.9.7"
  }
 },
 "nbformat": 4,
 "nbformat_minor": 5
}
